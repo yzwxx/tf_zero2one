{
 "cells": [
  {
   "cell_type": "code",
   "execution_count": 1,
   "metadata": {
    "collapsed": true
   },
   "outputs": [],
   "source": [
    "import tensorflow as tf\n",
    "import numpy as np\n"
   ]
  },
  {
   "cell_type": "code",
   "execution_count": 2,
   "metadata": {
    "collapsed": true
   },
   "outputs": [],
   "source": [
    "# to print the value of tf.constant,tf.placeholder and tf.Variable\n",
    "a = tf.constant([1.0, 2.0, 3.0, 4.0, 5.0, 6.0], shape=[2, 3], name='a')\n",
    "b = tf.placeholder(tf.float32,shape=[2,3])\n",
    "c = tf.Variable(tf.zeros([784,10]))"
   ]
  },
  {
   "cell_type": "markdown",
   "metadata": {},
   "source": [
    "## constant"
   ]
  },
  {
   "cell_type": "code",
   "execution_count": 3,
   "metadata": {
    "collapsed": false
   },
   "outputs": [
    {
     "name": "stdout",
     "output_type": "stream",
     "text": [
      "<class 'tensorflow.python.framework.ops.Tensor'>\n",
      "(2, 3)\n",
      "<class 'tensorflow.python.framework.tensor_shape.TensorShape'>\n",
      "<class 'tensorflow.python.framework.tensor_shape.Dimension'>\n",
      "[[ 1.  2.  3.]\n",
      " [ 4.  5.  6.]]\n",
      "[1 1 1] <type 'numpy.ndarray'>\n",
      "[2 2] <type 'numpy.ndarray'>\n",
      "[[ 1.  2.  3.]\n",
      " [ 4.  5.  6.]]\n",
      "(2, 3)\n",
      "<class 'tensorflow.python.framework.ops.Tensor'>\n"
     ]
    }
   ],
   "source": [
    "print type(a) # Tensor\n",
    "# use a._shape in version before TF1.0 , use a.shape after\n",
    "print a.shape # (2,3) but a is not tuple\n",
    "print type(a.shape) # Tensorshape\n",
    "print type(a.shape[0]) # Dimension\n",
    "\n",
    "# sess = tf.Session()\n",
    "sess = tf.InteractiveSession() # this is default session using InteractiveSession()\n",
    "# for constant\n",
    "print sess.run(a)\n",
    "index1 =  sess.run(tf.argmax(a,axis=0)) # axis=0 means we search for max argument in each column\n",
    "print index1,type(index1)\n",
    "index2 = sess.run(tf.argmax(a,axis=1)) # axis=1 means we search for max argument in each row\n",
    "print index2,type(index2)\n",
    "\n",
    "# print a.eval(session = sess)\n",
    "print a.eval()\n",
    "print a.get_shape()\n",
    "print type(a)"
   ]
  },
  {
   "cell_type": "markdown",
   "metadata": {},
   "source": [
    "## placeholder"
   ]
  },
  {
   "cell_type": "code",
   "execution_count": 4,
   "metadata": {
    "collapsed": false
   },
   "outputs": [
    {
     "name": "stdout",
     "output_type": "stream",
     "text": [
      "<class 'tensorflow.python.framework.ops.Tensor'>\n",
      "(2, 3)\n",
      "[[ 1.  2.  3.]\n",
      " [ 9.  6.  7.]]\n",
      "[[ 1.  2.  3.]\n",
      " [ 9.  6.  7.]]\n",
      "[2 0]\n",
      "(2, 3)\n",
      "<class 'tensorflow.python.framework.ops.Tensor'>\n"
     ]
    }
   ],
   "source": [
    "print type(b)\n",
    "# print b._shape\n",
    "print b.shape\n",
    "\n",
    "# for  placeholder it must have a feed_dict\n",
    "_b = np.array([[1,2,3],[9,6,7]])\n",
    "print sess.run(b, feed_dict={b:_b})\n",
    "print b.eval(session = sess, feed_dict={b:_b})\n",
    "# every time we evaluate a node with connection to placeholders we need feed_dict to assign value to placeholders\n",
    "print sess.run(tf.argmax(b,1),feed_dict={b:_b})\n",
    "print b.get_shape()\n",
    "print type(b)"
   ]
  },
  {
   "cell_type": "markdown",
   "metadata": {},
   "source": [
    "## Variable"
   ]
  },
  {
   "cell_type": "code",
   "execution_count": 5,
   "metadata": {
    "collapsed": false
   },
   "outputs": [
    {
     "name": "stdout",
     "output_type": "stream",
     "text": [
      "<class 'tensorflow.python.ops.variables.Variable'>\n",
      "<class 'tensorflow.python.framework.tensor_shape.TensorShape'>\n",
      "<class 'tensorflow.python.framework.tensor_shape.Dimension'>\n",
      "<type 'list'>\n",
      "[[ 0.  0.  0. ...,  0.  0.  0.]\n",
      " [ 0.  0.  0. ...,  0.  0.  0.]\n",
      " [ 0.  0.  0. ...,  0.  0.  0.]\n",
      " ..., \n",
      " [ 0.  0.  0. ...,  0.  0.  0.]\n",
      " [ 0.  0.  0. ...,  0.  0.  0.]\n",
      " [ 0.  0.  0. ...,  0.  0.  0.]]\n",
      "[[ 0.  0.  0. ...,  0.  0.  0.]\n",
      " [ 0.  0.  0. ...,  0.  0.  0.]\n",
      " [ 0.  0.  0. ...,  0.  0.  0.]\n",
      " ..., \n",
      " [ 0.  0.  0. ...,  0.  0.  0.]\n",
      " [ 0.  0.  0. ...,  0.  0.  0.]\n",
      " [ 0.  0.  0. ...,  0.  0.  0.]]\n",
      "(784, 10)\n",
      "<class 'tensorflow.python.ops.variables.Variable'>\n",
      "<type 'numpy.ndarray'>\n"
     ]
    }
   ],
   "source": [
    "print type(c)\n",
    "#print c._shape\n",
    "#print c.shape\n",
    "print type(c.get_shape()) # TensorShape\n",
    "print type(c.get_shape()[0]) # Dimension\n",
    "shape = c.get_shape().as_list()\n",
    "print type(shape) # list\n",
    "\n",
    "\n",
    "# for variable must be initialized before evaluation\n",
    "sess.run(tf.global_variables_initializer())\n",
    "print sess.run(c)\n",
    "# print c.eval(session = sess)\n",
    "print c.eval()\n",
    "print c.get_shape()\n",
    "print type(c)\n",
    "print type(sess.run(c))"
   ]
  },
  {
   "cell_type": "code",
   "execution_count": 6,
   "metadata": {
    "collapsed": false
   },
   "outputs": [
    {
     "name": "stdout",
     "output_type": "stream",
     "text": [
      "[[ 0.  0.  0.  0.]\n",
      " [ 0.  0.  0.  0.]\n",
      " [ 0.  0.  0.  0.]]\n",
      "[[ 1.  1.  1.]\n",
      " [ 1.  1.  1.]]\n",
      "[[ 5.  5.  5.]\n",
      " [ 5.  5.  5.]]\n",
      "[[1 2 3]\n",
      " [4 5 6]\n",
      " [7 7 7]]\n"
     ]
    }
   ],
   "source": [
    "# Variable:Creation, Initialization, Saving, and Loading\n",
    "# When you create a Variable you pass a Tensor as its initial value to the Variable() constructor. \n",
    "# TensorFlow provides a collection of ops that produce tensors often used for initialization \n",
    "\n",
    "d = tf.zeros(shape=[3,4])\n",
    "print sess.run(d)\n",
    "\n",
    "e = tf.ones_like(a)\n",
    "print sess.run(e)\n",
    "\n",
    "# zeros and ones fill the tensor with value 1 and 0.Use fill to customize if needed.\n",
    "f = tf.fill([2,3],5.0)\n",
    "print sess.run(f)\n",
    "\n",
    "g = tf.constant(value = [1,2,3,4,5,6,7],shape = [3,3])\n",
    "print sess.run(g)"
   ]
  },
  {
   "cell_type": "code",
   "execution_count": 7,
   "metadata": {
    "collapsed": false,
    "scrolled": true
   },
   "outputs": [
    {
     "name": "stdout",
     "output_type": "stream",
     "text": [
      "[[ 0.51340485 -0.25581399  0.65199131]\n",
      " [ 1.39236379  0.37256798  0.20336303]]\n",
      "[[-0.43663138  0.8449775  -0.01180986]\n",
      " [-0.88440078 -0.18527539  0.21195167]]\n",
      "[[ 0.51340485 -0.25581399  0.65199131]\n",
      " [ 1.39236379  0.37256798  0.20336303]]\n",
      "[[-0.43663138  0.8449775  -0.01180986]\n",
      " [-0.88440078 -0.18527539  0.21195167]]\n"
     ]
    }
   ],
   "source": [
    "# Create a tensor of shape [2, 3] consisting of random normal values, with mean\n",
    "# -1 and standard deviation 4.\n",
    "norm = tf.random_normal([2, 3], mean=-1, stddev=4)\n",
    "\n",
    "# Shuffle the first dimension of a tensor\n",
    "h = tf.constant([[1, 2], [3, 4], [5, 6]])\n",
    "shuff = tf.random_shuffle(h)\n",
    "\n",
    "# Each time we run these ops, different results are generated\n",
    "sess = tf.Session()\n",
    "# print(sess.run(shuff))\n",
    "# print(sess.run(norm))\n",
    "# print(sess.run(norm))\n",
    "\n",
    "# Set an op-level seed to generate repeatable sequences across sessions.\n",
    "norm1 = tf.random_normal([2, 3], seed=1234)\n",
    "norm2 = tf.random_normal([2, 3], seed=12)\n",
    "with tf.Session() as sess1:\n",
    "    print(sess1.run(norm1))\n",
    "    print(sess1.run(norm2))\n",
    "    # print(sess1.run(norm1))\n",
    "with tf.Session() as sess2:\n",
    "    print(sess2.run(norm1))\n",
    "#     print(sess2.run(norm1))\n",
    "    print(sess2.run(norm2))"
   ]
  },
  {
   "cell_type": "code",
   "execution_count": 15,
   "metadata": {
    "collapsed": false
   },
   "outputs": [
    {
     "name": "stdout",
     "output_type": "stream",
     "text": [
      "10000.0\n",
      "9994.22\n"
     ]
    }
   ],
   "source": [
    "# i = tf.random_normal([1000,1000]) # the two sum cannot be even close\n",
    "i = tf.ones([100,100]) # shows the scaling after dropout with the aim of keeping the sum unchanged\n",
    "sum_i = tf.reduce_sum(tf.reduce_sum(i))\n",
    "val,val_sum = sess.run([i,sum_i])\n",
    "# print val \n",
    "print val_sum\n",
    "# try dropout\n",
    "_i = tf.nn.dropout(i,keep_prob=0.7)\n",
    "sum_i2 = tf.reduce_sum(tf.reduce_sum(_i))\n",
    "val2,val_sum2 = sess.run([_i,sum_i2],feed_dict={i:val})\n",
    "# print val2\n",
    "print val_sum2"
   ]
  },
  {
   "cell_type": "code",
   "execution_count": 13,
   "metadata": {
    "collapsed": false
   },
   "outputs": [
    {
     "name": "stdout",
     "output_type": "stream",
     "text": [
      "<class 'tensorflow.python.ops.variables.Variable'>\n",
      "<class 'tensorflow.python.framework.ops.Operation'>\n",
      "<class 'tensorflow.python.client.session.Session'>\n",
      "Tensor(\"var/read:0\", shape=(2, 3), dtype=float32)\n",
      "[[ 0.11496793 -0.88963604  0.12979083]\n",
      " [-0.2623032  -1.23032916  0.01358601]]\n",
      "<class 'tensorflow.python.ops.variables.Variable'>\n"
     ]
    }
   ],
   "source": [
    "# Use random uniform values in [0, 1) as the initializer for a variable of shape\n",
    "# [2, 3]. The default type is float32.\n",
    "# var = tf.Variable(tf.random_uniform([2, 3]), name=\"var\")\n",
    "var = tf.Variable(tf.truncated_normal([2, 3]), name=\"var\")\n",
    "print type(var)\n",
    "init = tf.global_variables_initializer()\n",
    "print type(init)\n",
    "\n",
    "sess = tf.Session()\n",
    "print type(sess)\n",
    "sess.run(init)\n",
    "print var\n",
    "print(sess.run(var))\n",
    "print type(var)"
   ]
  },
  {
   "cell_type": "code",
   "execution_count": 46,
   "metadata": {
    "collapsed": false
   },
   "outputs": [
    {
     "name": "stdout",
     "output_type": "stream",
     "text": [
      "1\n",
      "[1]\n",
      "()\n",
      "(1,)\n"
     ]
    }
   ],
   "source": [
    "# the shape of scalar is () \n",
    "j = tf.constant(1)\n",
    "k = tf.constant([1])\n",
    "print sess.run(j)\n",
    "print k.eval(session=sess)\n",
    "print j.get_shape()\n",
    "print k.get_shape()"
   ]
  },
  {
   "cell_type": "code",
   "execution_count": 24,
   "metadata": {
    "collapsed": false
   },
   "outputs": [
    {
     "name": "stdout",
     "output_type": "stream",
     "text": [
      "[[[1 0 0 0 0 0]]\n",
      "\n",
      " [[0 1 0 0 0 0]]\n",
      "\n",
      " [[0 0 1 0 0 0]]\n",
      "\n",
      " [[0 0 0 1 0 0]]\n",
      "\n",
      " [[0 0 0 0 1 0]]\n",
      "\n",
      " [[0 0 0 0 0 1]]]\n"
     ]
    }
   ],
   "source": [
    "# try tf.one_hot\n",
    "m = tf.constant([1, 2, 3, 4, 5, 6], shape=[6, 1], name='a',dtype=tf.int32)\n",
    "n = tf.one_hot(m-1,depth=6,on_value=1,off_value=0)\n",
    "print sess.run(n)"
   ]
  },
  {
   "cell_type": "code",
   "execution_count": null,
   "metadata": {
    "collapsed": true
   },
   "outputs": [],
   "source": []
  }
 ],
 "metadata": {
  "anaconda-cloud": {},
  "kernelspec": {
   "display_name": "Python [default]",
   "language": "python",
   "name": "python2"
  },
  "language_info": {
   "codemirror_mode": {
    "name": "ipython",
    "version": 2
   },
   "file_extension": ".py",
   "mimetype": "text/x-python",
   "name": "python",
   "nbconvert_exporter": "python",
   "pygments_lexer": "ipython2",
   "version": "2.7.12"
  }
 },
 "nbformat": 4,
 "nbformat_minor": 1
}
