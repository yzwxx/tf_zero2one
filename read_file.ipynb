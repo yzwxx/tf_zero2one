{
 "cells": [
  {
   "cell_type": "code",
   "execution_count": 1,
   "metadata": {
    "collapsed": true
   },
   "outputs": [],
   "source": [
    "from __future__ import absolute_import\n",
    "from __future__ import division\n",
    "from __future__ import print_function\n",
    "\n",
    "import tensorflow as tf\n",
    "import os\n",
    "from os.path import join"
   ]
  },
  {
   "cell_type": "code",
   "execution_count": 2,
   "metadata": {
    "collapsed": false,
    "scrolled": true
   },
   "outputs": [
    {
     "name": "stdout",
     "output_type": "stream",
     "text": [
      "2\n",
      "[5 2 1 1] 1\n",
      "[ 8 32 13  2] 2\n",
      "[10  6 35 66] 3\n",
      "[  7 123 345  14] 1\n",
      "[ 2 31 23 12] 2\n",
      "[  4  12 123   1] 3\n",
      "[11 12 13 13] 1\n",
      "[21 22 23 24] 2\n",
      "[31 32 33 24] 3\n",
      "[  7 123 345  14] 1\n",
      "[ 2 31 23 12] 2\n",
      "[  4  12 123   1] 3\n",
      "[11 12 13 13] 1\n",
      "[21 22 23 24] 2\n",
      "[31 32 33 24] 3\n",
      "[5 2 1 1] 1\n",
      "[ 8 32 13  2] 2\n",
      "[10  6 35 66] 3\n",
      "[5 2 1 1] 1\n",
      "[ 8 32 13  2] 2\n",
      "[10  6 35 66] 3\n",
      "[11 12 13 13] 1\n",
      "[21 22 23 24] 2\n",
      "[31 32 33 24] 3\n",
      "[  7 123 345  14] 1\n",
      "[ 2 31 23 12] 2\n",
      "[  4  12 123   1] 3\n",
      "[5 2 1 1] 1\n",
      "[ 8 32 13  2] 2\n",
      "[10  6 35 66] 3\n",
      "[  7 123 345  14] 1\n",
      "[ 2 31 23 12] 2\n",
      "[  4  12 123   1] 3\n",
      "[11 12 13 13] 1\n",
      "[21 22 23 24] 2\n",
      "[31 32 33 24] 3\n"
     ]
    }
   ],
   "source": [
    "##########################\n",
    "## BUILD GRAPH\n",
    "##########################\n",
    "# reading from CSV files\n",
    "path = os.getcwd()\n",
    "# print(join(path,\"data/read_file/file0.csv\"))\n",
    "\n",
    "filename_queue = tf.train.string_input_producer([join(path,\"data/read_file/file0.csv\"), \n",
    "                                                 join(path,\"data/read_file/file1.csv\"),\n",
    "                                                 join(path,\"data/read_file/file2.csv\")],shuffle = True)\n",
    "\n",
    "reader = tf.TextLineReader()\n",
    "# print(type(reader))\n",
    "key, value = reader.read(filename_queue)\n",
    "\n",
    "# Default values, in case of empty columns. Also specifies the type of the decoded result.\n",
    "record_defaults = [[1], [1], [1], [1], [1]]\n",
    "col1, col2, col3, col4, col5 = tf.decode_csv(value, record_defaults=record_defaults)\n",
    "features = tf.stack([col1, col2, col3, col4])\n",
    "# print(type(features))\n",
    "\n",
    "###################################################################################\n",
    "# Thread body: loop until the coordinator indicates a stop was requested.\n",
    "# If some condition becomes true, ask the coordinator to stop.\n",
    "'''\n",
    "def MyLoop(coord):\n",
    "  while not coord.should_stop():\n",
    "    ...do something...\n",
    "    if ...some condition...:\n",
    "      coord.request_stop()\n",
    "\n",
    "# Main thread: create a coordinator.\n",
    "coord = tf.train.Coordinator()\n",
    "\n",
    "# Create 10 threads that run 'MyLoop()'\n",
    "threads = [threading.Thread(target=MyLoop, args=(coord,)) for i in xrange(10)]\n",
    "\n",
    "# Start the threads and wait for all of them to stop.\n",
    "for t in threads:\n",
    "  t.start()\n",
    "coord.join(threads)\n",
    "'''\n",
    "####################################################################################\n",
    "\n",
    "##############################\n",
    "## RUN OPS\n",
    "##############################\n",
    "with tf.Session() as sess:\n",
    "    coord = tf.train.Coordinator()\n",
    "    # start_queue_runners return a list of threads\n",
    "    # start populating the filename queue(equals to the for t in threads:t.shatrt() loop in demo in comments above)\n",
    "    # You must call tf.train.start_queue_runners to populate the queue before you call run or eval to execute the \n",
    "    # read. Otherwise read will block while it waits for filenames from the queue\n",
    "    threads = tf.train.start_queue_runners(sess = sess,coord=coord)\n",
    "    \n",
    "    print(len(threads))\n",
    "\n",
    "    for i in range(36):\n",
    "        # Retrieve a single instance:\n",
    "        example, label = sess.run([features, col5])\n",
    "        print(example,label)\n",
    "\n",
    "    coord.request_stop()\n",
    "    # Wait for all the threads to terminate.\n",
    "    coord.join(threads)"
   ]
  },
  {
   "cell_type": "code",
   "execution_count": null,
   "metadata": {
    "collapsed": true
   },
   "outputs": [],
   "source": []
  },
  {
   "cell_type": "code",
   "execution_count": null,
   "metadata": {
    "collapsed": true
   },
   "outputs": [],
   "source": []
  }
 ],
 "metadata": {
  "anaconda-cloud": {},
  "kernelspec": {
   "display_name": "Python [default]",
   "language": "python",
   "name": "python2"
  },
  "language_info": {
   "codemirror_mode": {
    "name": "ipython",
    "version": 2
   },
   "file_extension": ".py",
   "mimetype": "text/x-python",
   "name": "python",
   "nbconvert_exporter": "python",
   "pygments_lexer": "ipython2",
   "version": "2.7.12"
  }
 },
 "nbformat": 4,
 "nbformat_minor": 1
}
