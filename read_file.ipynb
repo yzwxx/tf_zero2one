{
 "cells": [
  {
   "cell_type": "code",
   "execution_count": 19,
   "metadata": {
    "collapsed": true
   },
   "outputs": [],
   "source": [
    "from __future__ import absolute_import\n",
    "from __future__ import division\n",
    "from __future__ import print_function\n",
    "\n",
    "import tensorflow as tf\n",
    "import os\n",
    "from os.path import join"
   ]
  },
  {
   "cell_type": "code",
   "execution_count": 27,
   "metadata": {
    "collapsed": false
   },
   "outputs": [
    {
     "name": "stdout",
     "output_type": "stream",
     "text": [
      "<class 'tensorflow.python.framework.ops.Tensor'>\n",
      "[  7 123 345  14] 1\n",
      "[ 2 31 23 12] 2\n",
      "[  4  12 123   1] 3\n",
      "[11 12 13 13] 1\n",
      "[21 22 23 24] 2\n",
      "[31 32 33 24] 3\n"
     ]
    }
   ],
   "source": [
    "# reading from CSV files\n",
    "path = os.getcwd()\n",
    "# print(join(path,\"data/read_file/file0.csv\"))\n",
    "\n",
    "filename_queue = tf.train.string_input_producer([join(path,\"data/read_file/file0.csv\"), \n",
    "                                                 join(path,\"data/read_file/file1.csv\")])\n",
    "\n",
    "reader = tf.TextLineReader()\n",
    "# print(type(reader))\n",
    "key, value = reader.read(filename_queue)\n",
    "\n",
    "# Default values, in case of empty columns. Also specifies the type of the decoded result.\n",
    "record_defaults = [[1], [1], [1], [1], [1]]\n",
    "col1, col2, col3, col4, col5 = tf.decode_csv(value, record_defaults=record_defaults)\n",
    "features = tf.stack([col1, col2, col3, col4])\n",
    "# print(type(features))\n",
    "\n",
    "\n",
    "with tf.Session() as sess:\n",
    "    # start populating the filename queue\n",
    "    coord = tf.train.Coordinator()\n",
    "    threads = tf.train.start_queue_runners(coord=coord)\n",
    "\n",
    "    for i in range(6):\n",
    "        # Retrieve a single instance:\n",
    "        example, label = sess.run([features, col5])\n",
    "        print(example,label)\n",
    "\n",
    "    coord.request_stop()\n",
    "    coord.join(threads)"
   ]
  },
  {
   "cell_type": "code",
   "execution_count": null,
   "metadata": {
    "collapsed": true
   },
   "outputs": [],
   "source": []
  },
  {
   "cell_type": "code",
   "execution_count": null,
   "metadata": {
    "collapsed": true
   },
   "outputs": [],
   "source": []
  }
 ],
 "metadata": {
  "kernelspec": {
   "display_name": "Python [default]",
   "language": "python",
   "name": "python2"
  },
  "language_info": {
   "codemirror_mode": {
    "name": "ipython",
    "version": 2
   },
   "file_extension": ".py",
   "mimetype": "text/x-python",
   "name": "python",
   "nbconvert_exporter": "python",
   "pygments_lexer": "ipython2",
   "version": "2.7.12"
  }
 },
 "nbformat": 4,
 "nbformat_minor": 1
}
